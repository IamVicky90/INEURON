{
 "cells": [
  {
   "cell_type": "markdown",
   "metadata": {},
   "source": [
    "## 1.1 Write a Python Program(with class concepts) to find the area of the triangle using the below\n",
    "## formula.\n",
    "#### area = (s*(s-a)*(s-b)*(s-c)) ** 0.5\n",
    "## Function to take the length of the sides of triangle from user should be defined in the parent class and function to calculate the area should be defined in subclass."
   ]
  },
  {
   "cell_type": "code",
   "execution_count": 1,
   "metadata": {},
   "outputs": [
    {
     "name": "stdout",
     "output_type": "stream",
     "text": [
      "a: 20\n",
      "b: 30\n",
      "c: 40\n",
      "290.4737509655563\n"
     ]
    }
   ],
   "source": [
    "class parent: #Parent class\n",
    "    def __init__(self,a,b,c):\n",
    "        self.a=int(a)\n",
    "        self.b=int(b)\n",
    "        self.c=int(c)\n",
    "class sub(parent): #Sub class\n",
    "    def __init__(self,a,b,c):\n",
    "        super().__init__(a,b,c) #Super Keyword to use parent class parameters\n",
    "    def area(self):\n",
    "        s=(self.a+self.b+self.c)/2\n",
    "        return (s*(s-self.a)*(s-self.b)*(s-self.c)) ** 0.5\n",
    "a=int(input(\"a: \"))\n",
    "b=int(input(\"b: \"))\n",
    "c=int(input(\"c: \"))\n",
    "s=sub(a,b,c) #To call sub class constructor\n",
    "print(s.area()) "
   ]
  },
  {
   "cell_type": "markdown",
   "metadata": {},
   "source": [
    "## 1.2 Write a function filter_long_words() that takes a list of words and an integer n and returns the list of words that are longer than n."
   ]
  },
  {
   "cell_type": "code",
   "execution_count": 2,
   "metadata": {},
   "outputs": [
    {
     "name": "stdout",
     "output_type": "stream",
     "text": [
      "No of words that are greater than 8 are ['MACHINE LEARNING', 'DEEP LEARNING', 'KRISH NAIK', 'SUDHANSHU KUMAR']\n"
     ]
    }
   ],
   "source": [
    "def filter_ling_words(lst,n):\n",
    "    output=[]\n",
    "    for word in lst:\n",
    "        if len(word)>n: #Check whether it's greater in length 'n' or not\n",
    "            output.append(word) \n",
    "    return output\n",
    "lst=[\"INEURON\", \"MACHINE LEARNING\", \"BANGLORE\",\"TEACHER\",\"DEEP LEARNING\",\"KRISH NAIK\",\"SUDHANSHU KUMAR\",\"AI\"]\n",
    "n=8 #integer 'n'\n",
    "result=filter_ling_words(lst=lst,n=n)\n",
    "print(f\"No of words that are greater than {n} are {result}\")            \n",
    "            "
   ]
  },
  {
   "cell_type": "markdown",
   "metadata": {},
   "source": [
    "## 2.1 Write a Python program using function concept that maps list of words into a list of integers representing the lengths of the corresponding words.\n",
    "### Hint: If a list [ ab,cde,erty] is passed on to the python function output should come as [2,3,4]\n",
    "### Here 2,3 and 4 are the lengths of the words in the list."
   ]
  },
  {
   "cell_type": "code",
   "execution_count": 3,
   "metadata": {},
   "outputs": [
    {
     "name": "stdout",
     "output_type": "stream",
     "text": [
      "['ab', 'cde', 'erty'] in lengths are [2, 3, 4]\n"
     ]
    }
   ],
   "source": [
    "def maps_list_of_words(lst):\n",
    "    output=[]\n",
    "    for word in lst:\n",
    "        output.append(len(word)) #To append the lengths of words in list\n",
    "    return output\n",
    "lst=[\"ab\",\"cde\",\"erty\"] \n",
    "result=maps_list_of_words(lst=lst)\n",
    "print(f\"{lst} in lengths are {result}\")"
   ]
  }
 ],
 "metadata": {
  "kernelspec": {
   "display_name": "Python 3",
   "language": "python",
   "name": "python3"
  },
  "language_info": {
   "codemirror_mode": {
    "name": "ipython",
    "version": 3
   },
   "file_extension": ".py",
   "mimetype": "text/x-python",
   "name": "python",
   "nbconvert_exporter": "python",
   "pygments_lexer": "ipython3",
   "version": "3.8.2"
  }
 },
 "nbformat": 4,
 "nbformat_minor": 4
}
